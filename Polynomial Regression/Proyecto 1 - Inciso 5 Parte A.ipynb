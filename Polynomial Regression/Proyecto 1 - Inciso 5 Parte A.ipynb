{
 "cells": [
  {
   "cell_type": "markdown",
   "id": "d923f871",
   "metadata": {},
   "source": [
    "# Librerías"
   ]
  },
  {
   "cell_type": "code",
   "execution_count": 1,
   "id": "8ed38d1c",
   "metadata": {},
   "outputs": [],
   "source": [
    "import numpy as np\n",
    "import matplotlib.pyplot as plt"
   ]
  },
  {
   "cell_type": "markdown",
   "id": "f94288a9",
   "metadata": {},
   "source": [
    "## Datos generados artificialmente"
   ]
  },
  {
   "cell_type": "code",
   "execution_count": 2,
   "id": "617ab076",
   "metadata": {},
   "outputs": [],
   "source": [
    "m = 200"
   ]
  },
  {
   "cell_type": "code",
   "execution_count": 3,
   "id": "47fb67ef",
   "metadata": {},
   "outputs": [],
   "source": [
    "X = 2.5 * np.random.rand(m, 1)"
   ]
  },
  {
   "cell_type": "code",
   "execution_count": 4,
   "id": "8a582ced",
   "metadata": {},
   "outputs": [],
   "source": [
    "y = 2 + 3*np.random.randn(m, 1) + 8*X**3"
   ]
  },
  {
   "cell_type": "code",
   "execution_count": 5,
   "id": "435a3367",
   "metadata": {},
   "outputs": [
    {
     "data": {
      "image/png": "[encoded data removed]",
      "text/plain": [
       "<Figure size 432x288 with 1 Axes>"
      ]
     },
     "metadata": {
      "needs_background": "light"
     },
     "output_type": "display_data"
    }
   ],
   "source": [
    "plt.plot(X, y, 'ro', linewidth = 4)\n",
    "plt.xlabel('X', fontsize = 14)\n",
    "plt.ylabel('y', fontsize = 14)\n",
    "plt.title('Gráfica generada')\n",
    "plt.show()"
   ]
  },
  {
   "cell_type": "markdown",
   "id": "cc39838c",
   "metadata": {},
   "source": [
    "# Polynomial Regression"
   ]
  },
  {
   "cell_type": "markdown",
   "id": "f3120616",
   "metadata": {},
   "source": [
    "## Selección de datos de entrenamiento y prueba"
   ]
  },
  {
   "cell_type": "code",
   "execution_count": 6,
   "id": "6d2421bc",
   "metadata": {},
   "outputs": [],
   "source": [
    "from sklearn.model_selection import train_test_split"
   ]
  },
  {
   "cell_type": "code",
   "execution_count": 7,
   "id": "54c35689",
   "metadata": {},
   "outputs": [],
   "source": [
    "X_train, X_test, y_train, y_test = train_test_split(\n",
    "...     X, y, test_size=0.2, random_state=60)"
   ]
  },
  {
   "cell_type": "markdown",
   "id": "0802c074",
   "metadata": {},
   "source": [
    "### Aproximación por segundo grado"
   ]
  },
  {
   "cell_type": "code",
   "execution_count": 8,
   "id": "c6d124e6",
   "metadata": {},
   "outputs": [
    {
     "data": {
      "text/plain": [
       "array([[1.00000000e+00, 2.48526388e+00, 6.17653654e+00],\n",
       "       [1.00000000e+00, 2.27419717e+00, 5.17197276e+00],\n",
       "       [1.00000000e+00, 2.09921248e+00, 4.40669303e+00],\n",
       "       [1.00000000e+00, 1.42841340e+00, 2.04036483e+00],\n",
       "       [1.00000000e+00, 3.27114144e-01, 1.07003663e-01],\n",
       "       [1.00000000e+00, 1.06757836e+00, 1.13972356e+00],\n",
       "       [1.00000000e+00, 1.05667577e+00, 1.11656367e+00],\n",
       "       [1.00000000e+00, 9.76011587e-01, 9.52598618e-01],\n",
       "       [1.00000000e+00, 2.68727086e-01, 7.22142469e-02],\n",
       "       [1.00000000e+00, 1.34809471e+00, 1.81735936e+00],\n",
       "       [1.00000000e+00, 1.88749671e+00, 3.56264383e+00],\n",
       "       [1.00000000e+00, 2.14462760e+00, 4.59942752e+00],\n",
       "       [1.00000000e+00, 8.03459893e-01, 6.45547800e-01],\n",
       "       [1.00000000e+00, 1.30922525e+00, 1.71407076e+00],\n",
       "       [1.00000000e+00, 1.40759012e+00, 1.98130994e+00],\n",
       "       [1.00000000e+00, 1.64244921e+00, 2.69763942e+00],\n",
       "       [1.00000000e+00, 2.31269572e+00, 5.34856149e+00],\n",
       "       [1.00000000e+00, 2.21409798e+00, 4.90222988e+00],\n",
       "       [1.00000000e+00, 2.28360853e-01, 5.21486791e-02],\n",
       "       [1.00000000e+00, 2.03085501e+00, 4.12437207e+00],\n",
       "       [1.00000000e+00, 1.89573646e+00, 3.59381674e+00],\n",
       "       [1.00000000e+00, 2.00811376e+00, 4.03252088e+00],\n",
       "       [1.00000000e+00, 2.78040951e-01, 7.73067703e-02],\n",
       "       [1.00000000e+00, 2.18170891e-01, 4.75985376e-02],\n",
       "       [1.00000000e+00, 8.61373347e-01, 7.41964044e-01],\n",
       "       [1.00000000e+00, 2.91785470e-01, 8.51387606e-02],\n",
       "       [1.00000000e+00, 8.97408987e-01, 8.05342890e-01],\n",
       "       [1.00000000e+00, 1.38215754e-01, 1.91035947e-02],\n",
       "       [1.00000000e+00, 1.92766366e+00, 3.71588718e+00],\n",
       "       [1.00000000e+00, 1.36336343e+00, 1.85875983e+00],\n",
       "       [1.00000000e+00, 1.48099033e+00, 2.19333235e+00],\n",
       "       [1.00000000e+00, 2.31254638e+00, 5.34787077e+00],\n",
       "       [1.00000000e+00, 2.95562409e-01, 8.73571379e-02],\n",
       "       [1.00000000e+00, 1.92789289e+00, 3.71677101e+00],\n",
       "       [1.00000000e+00, 1.03576150e+00, 1.07280189e+00],\n",
       "       [1.00000000e+00, 1.28768036e+00, 1.65812070e+00],\n",
       "       [1.00000000e+00, 1.39591464e+00, 1.94857769e+00],\n",
       "       [1.00000000e+00, 9.01441252e-01, 8.12596330e-01],\n",
       "       [1.00000000e+00, 2.04677469e+00, 4.18928665e+00],\n",
       "       [1.00000000e+00, 1.70789353e+00, 2.91690031e+00],\n",
       "       [1.00000000e+00, 2.90963954e-01, 8.46600227e-02],\n",
       "       [1.00000000e+00, 4.69861022e-01, 2.20769380e-01],\n",
       "       [1.00000000e+00, 2.35431548e+00, 5.54280139e+00],\n",
       "       [1.00000000e+00, 1.80951663e+00, 3.27435042e+00],\n",
       "       [1.00000000e+00, 1.14818197e+00, 1.31832184e+00],\n",
       "       [1.00000000e+00, 3.34726778e-01, 1.12042016e-01],\n",
       "       [1.00000000e+00, 5.16208373e-01, 2.66471084e-01],\n",
       "       [1.00000000e+00, 6.06013857e-01, 3.67252795e-01],\n",
       "       [1.00000000e+00, 6.48584956e-01, 4.20662445e-01],\n",
       "       [1.00000000e+00, 2.86987348e-01, 8.23617377e-02],\n",
       "       [1.00000000e+00, 1.49995095e+00, 2.24985285e+00],\n",
       "       [1.00000000e+00, 1.17794281e+00, 1.38754927e+00],\n",
       "       [1.00000000e+00, 2.23942424e+00, 5.01502091e+00],\n",
       "       [1.00000000e+00, 1.77639437e+00, 3.15557696e+00],\n",
       "       [1.00000000e+00, 1.62756676e+00, 2.64897357e+00],\n",
       "       [1.00000000e+00, 1.45540679e+00, 2.11820891e+00],\n",
       "       [1.00000000e+00, 2.09774397e+00, 4.40052976e+00],\n",
       "       [1.00000000e+00, 1.06944325e+00, 1.14370887e+00],\n",
       "       [1.00000000e+00, 2.18617333e+00, 4.77935381e+00],\n",
       "       [1.00000000e+00, 2.03961399e+00, 4.16002524e+00],\n",
       "       [1.00000000e+00, 1.02087672e+00, 1.04218928e+00],\n",
       "       [1.00000000e+00, 1.15198648e+00, 1.32707284e+00],\n",
       "       [1.00000000e+00, 6.95294599e-02, 4.83434580e-03],\n",
       "       [1.00000000e+00, 1.32711814e+00, 1.76124255e+00],\n",
       "       [1.00000000e+00, 1.95465458e+00, 3.82067453e+00],\n",
       "       [1.00000000e+00, 1.31319385e+00, 1.72447810e+00],\n",
       "       [1.00000000e+00, 1.69030721e+00, 2.85713846e+00],\n",
       "       [1.00000000e+00, 2.44525661e+00, 5.97927990e+00],\n",
       "       [1.00000000e+00, 1.60116111e+00, 2.56371691e+00],\n",
       "       [1.00000000e+00, 8.31790005e-01, 6.91874613e-01],\n",
       "       [1.00000000e+00, 2.20003014e+00, 4.84013261e+00],\n",
       "       [1.00000000e+00, 4.71090946e-01, 2.21926679e-01],\n",
       "       [1.00000000e+00, 9.67182350e-01, 9.35441698e-01],\n",
       "       [1.00000000e+00, 2.37448380e+00, 5.63817334e+00],\n",
       "       [1.00000000e+00, 1.54488514e+00, 2.38667011e+00],\n",
       "       [1.00000000e+00, 5.05105607e-01, 2.55131674e-01],\n",
       "       [1.00000000e+00, 5.88261641e-01, 3.46051758e-01],\n",
       "       [1.00000000e+00, 5.51468013e-01, 3.04116969e-01],\n",
       "       [1.00000000e+00, 7.86666328e-01, 6.18843912e-01],\n",
       "       [1.00000000e+00, 1.98015564e+00, 3.92101637e+00],\n",
       "       [1.00000000e+00, 1.91863444e+00, 3.68115811e+00],\n",
       "       [1.00000000e+00, 2.24056859e+00, 5.02014762e+00],\n",
       "       [1.00000000e+00, 2.49250589e+00, 6.21258562e+00],\n",
       "       [1.00000000e+00, 1.12045384e+00, 1.25541680e+00],\n",
       "       [1.00000000e+00, 2.16264940e+00, 4.67705245e+00],\n",
       "       [1.00000000e+00, 1.77020734e+00, 3.13363403e+00],\n",
       "       [1.00000000e+00, 1.02977658e+00, 1.06043980e+00],\n",
       "       [1.00000000e+00, 4.07040064e-01, 1.65681614e-01],\n",
       "       [1.00000000e+00, 3.40286239e-01, 1.15794725e-01],\n",
       "       [1.00000000e+00, 3.42807320e-01, 1.17516859e-01],\n",
       "       [1.00000000e+00, 1.80753391e-01, 3.26717884e-02],\n",
       "       [1.00000000e+00, 1.65361110e+00, 2.73442966e+00],\n",
       "       [1.00000000e+00, 3.31439579e-01, 1.09852195e-01],\n",
       "       [1.00000000e+00, 1.27470203e-02, 1.62486527e-04],\n",
       "       [1.00000000e+00, 1.16264976e+00, 1.35175447e+00],\n",
       "       [1.00000000e+00, 1.88736600e+00, 3.56215041e+00],\n",
       "       [1.00000000e+00, 1.68722310e+00, 2.84672179e+00],\n",
       "       [1.00000000e+00, 2.25525644e+00, 5.08618160e+00],\n",
       "       [1.00000000e+00, 2.13235058e+00, 4.54691898e+00],\n",
       "       [1.00000000e+00, 1.99409256e-01, 3.97640513e-02],\n",
       "       [1.00000000e+00, 2.46313608e+00, 6.06703937e+00],\n",
       "       [1.00000000e+00, 1.34302568e+00, 1.80371798e+00],\n",
       "       [1.00000000e+00, 1.68961656e+00, 2.85480411e+00],\n",
       "       [1.00000000e+00, 8.64556175e-01, 7.47457380e-01],\n",
       "       [1.00000000e+00, 1.40761379e+00, 1.98137657e+00],\n",
       "       [1.00000000e+00, 4.48694797e-01, 2.01327021e-01],\n",
       "       [1.00000000e+00, 1.33173331e+00, 1.77351360e+00],\n",
       "       [1.00000000e+00, 1.87462251e+00, 3.51420956e+00],\n",
       "       [1.00000000e+00, 2.39673612e+00, 5.74434403e+00],\n",
       "       [1.00000000e+00, 1.29401044e-01, 1.67446301e-02],\n",
       "       [1.00000000e+00, 2.28122533e+00, 5.20398900e+00],\n",
       "       [1.00000000e+00, 6.17191353e-01, 3.80925167e-01],\n",
       "       [1.00000000e+00, 1.39518357e+00, 1.94653718e+00],\n",
       "       [1.00000000e+00, 1.77821336e-01, 3.16204274e-02],\n",
       "       [1.00000000e+00, 2.16338394e+00, 4.68023005e+00],\n",
       "       [1.00000000e+00, 2.37874110e+00, 5.65840921e+00],\n",
       "       [1.00000000e+00, 2.37767571e-01, 5.65334180e-02],\n",
       "       [1.00000000e+00, 5.18774492e-02, 2.69126974e-03],\n",
       "       [1.00000000e+00, 1.17227768e+00, 1.37423496e+00],\n",
       "       [1.00000000e+00, 2.17354638e+00, 4.72430387e+00],\n",
       "       [1.00000000e+00, 7.66620559e-01, 5.87707082e-01],\n",
       "       [1.00000000e+00, 2.27877168e+00, 5.19280035e+00],\n",
       "       [1.00000000e+00, 5.19277194e-02, 2.69648805e-03],\n",
       "       [1.00000000e+00, 6.08437775e-01, 3.70196527e-01],\n",
       "       [1.00000000e+00, 2.47445234e+00, 6.12291439e+00],\n",
       "       [1.00000000e+00, 2.45067752e+00, 6.00582029e+00],\n",
       "       [1.00000000e+00, 2.43668250e+00, 5.93742161e+00],\n",
       "       [1.00000000e+00, 1.91192751e+00, 3.65546682e+00],\n",
       "       [1.00000000e+00, 1.05028584e+00, 1.10310035e+00],\n",
       "       [1.00000000e+00, 1.18385977e+00, 1.40152395e+00],\n",
       "       [1.00000000e+00, 1.82589686e+00, 3.33389936e+00],\n",
       "       [1.00000000e+00, 5.62863924e-01, 3.16815796e-01],\n",
       "       [1.00000000e+00, 1.86731748e+00, 3.48687457e+00],\n",
       "       [1.00000000e+00, 2.00005759e-01, 4.00023038e-02],\n",
       "       [1.00000000e+00, 1.06760482e+00, 1.13978006e+00],\n",
       "       [1.00000000e+00, 1.62218487e+00, 2.63148376e+00],\n",
       "       [1.00000000e+00, 8.24895738e-01, 6.80452978e-01],\n",
       "       [1.00000000e+00, 9.10933612e-01, 8.29800045e-01],\n",
       "       [1.00000000e+00, 1.32002648e+00, 1.74246992e+00],\n",
       "       [1.00000000e+00, 1.92620663e+00, 3.71027199e+00],\n",
       "       [1.00000000e+00, 1.95008371e+00, 3.80282649e+00],\n",
       "       [1.00000000e+00, 1.59562760e+00, 2.54602744e+00],\n",
       "       [1.00000000e+00, 1.57105652e-01, 2.46821860e-02],\n",
       "       [1.00000000e+00, 2.32435241e+00, 5.40261413e+00],\n",
       "       [1.00000000e+00, 1.46136710e+00, 2.13559381e+00],\n",
       "       [1.00000000e+00, 1.97962026e+00, 3.91889638e+00],\n",
       "       [1.00000000e+00, 1.99394077e+00, 3.97579980e+00],\n",
       "       [1.00000000e+00, 5.60218568e-02, 3.13844844e-03],\n",
       "       [1.00000000e+00, 2.37970162e+00, 5.66297980e+00],\n",
       "       [1.00000000e+00, 1.46451372e-01, 2.14480044e-02],\n",
       "       [1.00000000e+00, 2.05524635e+00, 4.22403757e+00],\n",
       "       [1.00000000e+00, 1.06027834e+00, 1.12419016e+00],\n",
       "       [1.00000000e+00, 1.71125402e+00, 2.92839032e+00],\n",
       "       [1.00000000e+00, 2.35846583e+00, 5.56236107e+00],\n",
       "       [1.00000000e+00, 1.45492601e+00, 2.11680969e+00],\n",
       "       [1.00000000e+00, 1.07378256e+00, 1.15300898e+00],\n",
       "       [1.00000000e+00, 7.55356933e-01, 5.70564097e-01],\n",
       "       [1.00000000e+00, 1.55903574e+00, 2.43059245e+00],\n",
       "       [1.00000000e+00, 1.73032970e+00, 2.99404086e+00],\n",
       "       [1.00000000e+00, 9.38953920e-01, 8.81634465e-01]])"
      ]
     },
     "execution_count": 8,
     "metadata": {},
     "output_type": "execute_result"
    }
   ],
   "source": [
    "X_new = np.c_[np.ones((len(X_train), 1)), X_train, X_train**2]\n",
    "X_new"
   ]
  },
  {
   "cell_type": "code",
   "execution_count": 9,
   "id": "da7a06bd",
   "metadata": {},
   "outputs": [
    {
     "data": {
      "text/plain": [
       "array([[  8.40810042],\n",
       "       [-31.58181276],\n",
       "       [ 30.78843981]])"
      ]
     },
     "execution_count": 9,
     "metadata": {},
     "output_type": "execute_result"
    }
   ],
   "source": [
    "theta = np.linalg.inv(X_new.T @ X_new) @ (X_new.T @ y_train)\n",
    "theta"
   ]
  },
  {
   "cell_type": "code",
   "execution_count": 10,
   "id": "3597be63",
   "metadata": {},
   "outputs": [],
   "source": [
    "poly_function = theta[0] + theta[1]*X_test + theta[2]*X_test**2"
   ]
  },
  {
   "cell_type": "code",
   "execution_count": 11,
   "id": "b818fbdd",
   "metadata": {
    "scrolled": false
   },
   "outputs": [
    {
     "data": {
      "image/png": "[encoded data removed]",
      "text/plain": [
       "<Figure size 432x288 with 1 Axes>"
      ]
     },
     "metadata": {
      "needs_background": "light"
     },
     "output_type": "display_data"
    }
   ],
   "source": [
    "plt.plot(X, y, 'ro', label = 'Función original', linewidth = 4)\n",
    "plt.plot(X_test, poly_function, 'bo', label = 'Aproximación', linewidth = 2)\n",
    "plt.xlabel('X test', fontsize = 14)\n",
    "plt.ylabel('y predicted', fontsize = 14)\n",
    "plt.title('Gráfica aproximada con grado 2')\n",
    "plt.legend(loc = 'upper left')\n",
    "plt.show()"
   ]
  },
  {
   "cell_type": "markdown",
   "id": "81562e63",
   "metadata": {},
   "source": [
    "### Verificación por medio de R2 Sklearn"
   ]
  },
  {
   "cell_type": "code",
   "execution_count": 12,
   "id": "2f926a86",
   "metadata": {},
   "outputs": [
    {
     "data": {
      "text/plain": [
       "0.9906701202755991"
      ]
     },
     "execution_count": 12,
     "metadata": {},
     "output_type": "execute_result"
    }
   ],
   "source": [
    "from sklearn.metrics import r2_score \n",
    "from sklearn.metrics import mean_squared_error\n",
    "r2 = r2_score(y_test,poly_function)\n",
    "r2"
   ]
  },
  {
   "cell_type": "markdown",
   "id": "febe2c64",
   "metadata": {},
   "source": [
    "## Aproximación por tercer grado"
   ]
  },
  {
   "cell_type": "code",
   "execution_count": 13,
   "id": "a6349afc",
   "metadata": {},
   "outputs": [
    {
     "data": {
      "text/plain": [
       "array([[1.00000000e+00, 2.48526388e+00, 6.17653654e+00, 1.53503231e+01],\n",
       "       [1.00000000e+00, 2.27419717e+00, 5.17197276e+00, 1.17620858e+01],\n",
       "       [1.00000000e+00, 2.09921248e+00, 4.40669303e+00, 9.25058500e+00],\n",
       "       [1.00000000e+00, 1.42841340e+00, 2.04036483e+00, 2.91448445e+00],\n",
       "       [1.00000000e+00, 3.27114144e-01, 1.07003663e-01, 3.50024116e-02],\n",
       "       [1.00000000e+00, 1.06757836e+00, 1.13972356e+00, 1.21674421e+00],\n",
       "       [1.00000000e+00, 1.05667577e+00, 1.11656367e+00, 1.17984578e+00],\n",
       "       [1.00000000e+00, 9.76011587e-01, 9.52598618e-01, 9.29747289e-01],\n",
       "       [1.00000000e+00, 2.68727086e-01, 7.22142469e-02, 1.94059242e-02],\n",
       "       [1.00000000e+00, 1.34809471e+00, 1.81735936e+00, 2.44997254e+00],\n",
       "       [1.00000000e+00, 1.88749671e+00, 3.56264383e+00, 6.72447851e+00],\n",
       "       [1.00000000e+00, 2.14462760e+00, 4.59942752e+00, 9.86405919e+00],\n",
       "       [1.00000000e+00, 8.03459893e-01, 6.45547800e-01, 5.18671766e-01],\n",
       "       [1.00000000e+00, 1.30922525e+00, 1.71407076e+00, 2.24410473e+00],\n",
       "       [1.00000000e+00, 1.40759012e+00, 1.98130994e+00, 2.78887230e+00],\n",
       "       [1.00000000e+00, 1.64244921e+00, 2.69763942e+00, 4.43073575e+00],\n",
       "       [1.00000000e+00, 2.31269572e+00, 5.34856149e+00, 1.23695953e+01],\n",
       "       [1.00000000e+00, 2.21409798e+00, 4.90222988e+00, 1.08540173e+01],\n",
       "       [1.00000000e+00, 2.28360853e-01, 5.21486791e-02, 1.19087168e-02],\n",
       "       [1.00000000e+00, 2.03085501e+00, 4.12437207e+00, 8.37600167e+00],\n",
       "       [1.00000000e+00, 1.89573646e+00, 3.59381674e+00, 6.81292943e+00],\n",
       "       [1.00000000e+00, 2.00811376e+00, 4.03252088e+00, 8.09776067e+00],\n",
       "       [1.00000000e+00, 2.78040951e-01, 7.73067703e-02, 2.14944479e-02],\n",
       "       [1.00000000e+00, 2.18170891e-01, 4.75985376e-02, 1.03846153e-02],\n",
       "       [1.00000000e+00, 8.61373347e-01, 7.41964044e-01, 6.39108052e-01],\n",
       "       [1.00000000e+00, 2.91785470e-01, 8.51387606e-02, 2.48422533e-02],\n",
       "       [1.00000000e+00, 8.97408987e-01, 8.05342890e-01, 7.22721947e-01],\n",
       "       [1.00000000e+00, 1.38215754e-01, 1.91035947e-02, 2.64041775e-03],\n",
       "       [1.00000000e+00, 1.92766366e+00, 3.71588718e+00, 7.16298068e+00],\n",
       "       [1.00000000e+00, 1.36336343e+00, 1.85875983e+00, 2.53416518e+00],\n",
       "       [1.00000000e+00, 1.48099033e+00, 2.19333235e+00, 3.24830400e+00],\n",
       "       [1.00000000e+00, 2.31254638e+00, 5.34787077e+00, 1.23671992e+01],\n",
       "       [1.00000000e+00, 2.95562409e-01, 8.73571379e-02, 2.58194862e-02],\n",
       "       [1.00000000e+00, 1.92789289e+00, 3.71677101e+00, 7.16553642e+00],\n",
       "       [1.00000000e+00, 1.03576150e+00, 1.07280189e+00, 1.11116689e+00],\n",
       "       [1.00000000e+00, 1.28768036e+00, 1.65812070e+00, 2.13512945e+00],\n",
       "       [1.00000000e+00, 1.39591464e+00, 1.94857769e+00, 2.72004812e+00],\n",
       "       [1.00000000e+00, 9.01441252e-01, 8.12596330e-01, 7.32507853e-01],\n",
       "       [1.00000000e+00, 2.04677469e+00, 4.18928665e+00, 8.57452589e+00],\n",
       "       [1.00000000e+00, 1.70789353e+00, 2.91690031e+00, 4.98175517e+00],\n",
       "       [1.00000000e+00, 2.90963954e-01, 8.46600227e-02, 2.46330150e-02],\n",
       "       [1.00000000e+00, 4.69861022e-01, 2.20769380e-01, 1.03730927e-01],\n",
       "       [1.00000000e+00, 2.35431548e+00, 5.54280139e+00, 1.30495031e+01],\n",
       "       [1.00000000e+00, 1.80951663e+00, 3.27435042e+00, 5.92499153e+00],\n",
       "       [1.00000000e+00, 1.14818197e+00, 1.31832184e+00, 1.51367337e+00],\n",
       "       [1.00000000e+00, 3.34726778e-01, 1.12042016e-01, 3.75034630e-02],\n",
       "       [1.00000000e+00, 5.16208373e-01, 2.66471084e-01, 1.37554605e-01],\n",
       "       [1.00000000e+00, 6.06013857e-01, 3.67252795e-01, 2.22560283e-01],\n",
       "       [1.00000000e+00, 6.48584956e-01, 4.20662445e-01, 2.72835333e-01],\n",
       "       [1.00000000e+00, 2.86987348e-01, 8.23617377e-02, 2.36367767e-02],\n",
       "       [1.00000000e+00, 1.49995095e+00, 2.24985285e+00, 3.37466891e+00],\n",
       "       [1.00000000e+00, 1.17794281e+00, 1.38754927e+00, 1.63445368e+00],\n",
       "       [1.00000000e+00, 2.23942424e+00, 5.01502091e+00, 1.12307594e+01],\n",
       "       [1.00000000e+00, 1.77639437e+00, 3.15557696e+00, 5.60554914e+00],\n",
       "       [1.00000000e+00, 1.62756676e+00, 2.64897357e+00, 4.31138134e+00],\n",
       "       [1.00000000e+00, 1.45540679e+00, 2.11820891e+00, 3.08285562e+00],\n",
       "       [1.00000000e+00, 2.09774397e+00, 4.40052976e+00, 9.23118477e+00],\n",
       "       [1.00000000e+00, 1.06944325e+00, 1.14370887e+00, 1.22313173e+00],\n",
       "       [1.00000000e+00, 2.18617333e+00, 4.77935381e+00, 1.04484958e+01],\n",
       "       [1.00000000e+00, 2.03961399e+00, 4.16002524e+00, 8.48484569e+00],\n",
       "       [1.00000000e+00, 1.02087672e+00, 1.04218928e+00, 1.06394677e+00],\n",
       "       [1.00000000e+00, 1.15198648e+00, 1.32707284e+00, 1.52876997e+00],\n",
       "       [1.00000000e+00, 6.95294599e-02, 4.83434580e-03, 3.36129453e-04],\n",
       "       [1.00000000e+00, 1.32711814e+00, 1.76124255e+00, 2.33737693e+00],\n",
       "       [1.00000000e+00, 1.95465458e+00, 3.82067453e+00, 7.46809898e+00],\n",
       "       [1.00000000e+00, 1.31319385e+00, 1.72447810e+00, 2.26457404e+00],\n",
       "       [1.00000000e+00, 1.69030721e+00, 2.85713846e+00, 4.82944173e+00],\n",
       "       [1.00000000e+00, 2.44525661e+00, 5.97927990e+00, 1.46208737e+01],\n",
       "       [1.00000000e+00, 1.60116111e+00, 2.56371691e+00, 4.10492381e+00],\n",
       "       [1.00000000e+00, 8.31790005e-01, 6.91874613e-01, 5.75494388e-01],\n",
       "       [1.00000000e+00, 2.20003014e+00, 4.84013261e+00, 1.06484376e+01],\n",
       "       [1.00000000e+00, 4.71090946e-01, 2.21926679e-01, 1.04547649e-01],\n",
       "       [1.00000000e+00, 9.67182350e-01, 9.35441698e-01, 9.04742700e-01],\n",
       "       [1.00000000e+00, 2.37448380e+00, 5.63817334e+00, 1.33877513e+01],\n",
       "       [1.00000000e+00, 1.54488514e+00, 2.38667011e+00, 3.68713120e+00],\n",
       "       [1.00000000e+00, 5.05105607e-01, 2.55131674e-01, 1.28868439e-01],\n",
       "       [1.00000000e+00, 5.88261641e-01, 3.46051758e-01, 2.03568975e-01],\n",
       "       [1.00000000e+00, 5.51468013e-01, 3.04116969e-01, 1.67710781e-01],\n",
       "       [1.00000000e+00, 7.86666328e-01, 6.18843912e-01, 4.86823668e-01],\n",
       "       [1.00000000e+00, 1.98015564e+00, 3.92101637e+00, 7.76422268e+00],\n",
       "       [1.00000000e+00, 1.91863444e+00, 3.68115811e+00, 7.06279673e+00],\n",
       "       [1.00000000e+00, 2.24056859e+00, 5.02014762e+00, 1.12479851e+01],\n",
       "       [1.00000000e+00, 2.49250589e+00, 6.21258562e+00, 1.54849062e+01],\n",
       "       [1.00000000e+00, 1.12045384e+00, 1.25541680e+00, 1.40663657e+00],\n",
       "       [1.00000000e+00, 2.16264940e+00, 4.67705245e+00, 1.01148247e+01],\n",
       "       [1.00000000e+00, 1.77020734e+00, 3.13363403e+00, 5.54718197e+00],\n",
       "       [1.00000000e+00, 1.02977658e+00, 1.06043980e+00, 1.09201607e+00],\n",
       "       [1.00000000e+00, 4.07040064e-01, 1.65681614e-01, 6.74390548e-02],\n",
       "       [1.00000000e+00, 3.40286239e-01, 1.15794725e-01, 3.94033514e-02],\n",
       "       [1.00000000e+00, 3.42807320e-01, 1.17516859e-01, 4.02856393e-02],\n",
       "       [1.00000000e+00, 1.80753391e-01, 3.26717884e-02, 5.90553654e-03],\n",
       "       [1.00000000e+00, 1.65361110e+00, 2.73442966e+00, 4.52168323e+00],\n",
       "       [1.00000000e+00, 3.31439579e-01, 1.09852195e-01, 3.64093651e-02],\n",
       "       [1.00000000e+00, 1.27470203e-02, 1.62486527e-04, 2.07121907e-06],\n",
       "       [1.00000000e+00, 1.16264976e+00, 1.35175447e+00, 1.57161702e+00],\n",
       "       [1.00000000e+00, 1.88736600e+00, 3.56215041e+00, 6.72308156e+00],\n",
       "       [1.00000000e+00, 1.68722310e+00, 2.84672179e+00, 4.80305477e+00],\n",
       "       [1.00000000e+00, 2.25525644e+00, 5.08618160e+00, 1.14706438e+01],\n",
       "       [1.00000000e+00, 2.13235058e+00, 4.54691898e+00, 9.69562531e+00],\n",
       "       [1.00000000e+00, 1.99409256e-01, 3.97640513e-02, 7.92931987e-03],\n",
       "       [1.00000000e+00, 2.46313608e+00, 6.06703937e+00, 1.49439436e+01],\n",
       "       [1.00000000e+00, 1.34302568e+00, 1.80371798e+00, 2.42243958e+00],\n",
       "       [1.00000000e+00, 1.68961656e+00, 2.85480411e+00, 4.82352430e+00],\n",
       "       [1.00000000e+00, 8.64556175e-01, 7.47457380e-01, 6.46218894e-01],\n",
       "       [1.00000000e+00, 1.40761379e+00, 1.98137657e+00, 2.78901298e+00],\n",
       "       [1.00000000e+00, 4.48694797e-01, 2.01327021e-01, 9.03343868e-02],\n",
       "       [1.00000000e+00, 1.33173331e+00, 1.77351360e+00, 2.36184713e+00],\n",
       "       [1.00000000e+00, 1.87462251e+00, 3.51420956e+00, 6.58781634e+00],\n",
       "       [1.00000000e+00, 2.39673612e+00, 5.74434403e+00, 1.37676768e+01],\n",
       "       [1.00000000e+00, 1.29401044e-01, 1.67446301e-02, 2.16677261e-03],\n",
       "       [1.00000000e+00, 2.28122533e+00, 5.20398900e+00, 1.18714715e+01],\n",
       "       [1.00000000e+00, 6.17191353e-01, 3.80925167e-01, 2.35103719e-01],\n",
       "       [1.00000000e+00, 1.39518357e+00, 1.94653718e+00, 2.71577668e+00],\n",
       "       [1.00000000e+00, 1.77821336e-01, 3.16204274e-02, 5.62278662e-03],\n",
       "       [1.00000000e+00, 2.16338394e+00, 4.68023005e+00, 1.01251345e+01],\n",
       "       [1.00000000e+00, 2.37874110e+00, 5.65840921e+00, 1.34598905e+01],\n",
       "       [1.00000000e+00, 2.37767571e-01, 5.65334180e-02, 1.34418135e-02],\n",
       "       [1.00000000e+00, 5.18774492e-02, 2.69126974e-03, 1.39616209e-04],\n",
       "       [1.00000000e+00, 1.17227768e+00, 1.37423496e+00, 1.61098498e+00],\n",
       "       [1.00000000e+00, 2.17354638e+00, 4.72430387e+00, 1.02684936e+01],\n",
       "       [1.00000000e+00, 7.66620559e-01, 5.87707082e-01, 4.50548332e-01],\n",
       "       [1.00000000e+00, 2.27877168e+00, 5.19280035e+00, 1.18332063e+01],\n",
       "       [1.00000000e+00, 5.19277194e-02, 2.69648805e-03, 1.40022475e-04],\n",
       "       [1.00000000e+00, 6.08437775e-01, 3.70196527e-01, 2.25241551e-01],\n",
       "       [1.00000000e+00, 2.47445234e+00, 6.12291439e+00, 1.51508599e+01],\n",
       "       [1.00000000e+00, 2.45067752e+00, 6.00582029e+00, 1.47183288e+01],\n",
       "       [1.00000000e+00, 2.43668250e+00, 5.93742161e+00, 1.44676113e+01],\n",
       "       [1.00000000e+00, 1.91192751e+00, 3.65546682e+00, 6.98898760e+00],\n",
       "       [1.00000000e+00, 1.05028584e+00, 1.10310035e+00, 1.15857068e+00],\n",
       "       [1.00000000e+00, 1.18385977e+00, 1.40152395e+00, 1.65920782e+00],\n",
       "       [1.00000000e+00, 1.82589686e+00, 3.33389936e+00, 6.08735638e+00],\n",
       "       [1.00000000e+00, 5.62863924e-01, 3.16815796e-01, 1.78324182e-01],\n",
       "       [1.00000000e+00, 1.86731748e+00, 3.48687457e+00, 6.51110184e+00],\n",
       "       [1.00000000e+00, 2.00005759e-01, 4.00023038e-02, 8.00069114e-03],\n",
       "       [1.00000000e+00, 1.06760482e+00, 1.13978006e+00, 1.21683468e+00],\n",
       "       [1.00000000e+00, 1.62218487e+00, 2.63148376e+00, 4.26875314e+00],\n",
       "       [1.00000000e+00, 8.24895738e-01, 6.80452978e-01, 5.61302761e-01],\n",
       "       [1.00000000e+00, 9.10933612e-01, 8.29800045e-01, 7.55892752e-01],\n",
       "       [1.00000000e+00, 1.32002648e+00, 1.74246992e+00, 2.30010643e+00],\n",
       "       [1.00000000e+00, 1.92620663e+00, 3.71027199e+00, 7.14675051e+00],\n",
       "       [1.00000000e+00, 1.95008371e+00, 3.80282649e+00, 7.41583000e+00],\n",
       "       [1.00000000e+00, 1.59562760e+00, 2.54602744e+00, 4.06251167e+00],\n",
       "       [1.00000000e+00, 1.57105652e-01, 2.46821860e-02, 3.87771093e-03],\n",
       "       [1.00000000e+00, 2.32435241e+00, 5.40261413e+00, 1.25575792e+01],\n",
       "       [1.00000000e+00, 1.46136710e+00, 2.13559381e+00, 3.12088655e+00],\n",
       "       [1.00000000e+00, 1.97962026e+00, 3.91889638e+00, 7.75792668e+00],\n",
       "       [1.00000000e+00, 1.99394077e+00, 3.97579980e+00, 7.92750932e+00],\n",
       "       [1.00000000e+00, 5.60218568e-02, 3.13844844e-03, 1.75821709e-04],\n",
       "       [1.00000000e+00, 2.37970162e+00, 5.66297980e+00, 1.34762022e+01],\n",
       "       [1.00000000e+00, 1.46451372e-01, 2.14480044e-02, 3.14108968e-03],\n",
       "       [1.00000000e+00, 2.05524635e+00, 4.22403757e+00, 8.68143781e+00],\n",
       "       [1.00000000e+00, 1.06027834e+00, 1.12419016e+00, 1.19195449e+00],\n",
       "       [1.00000000e+00, 1.71125402e+00, 2.92839032e+00, 5.01121970e+00],\n",
       "       [1.00000000e+00, 2.35846583e+00, 5.56236107e+00, 1.31186385e+01],\n",
       "       [1.00000000e+00, 1.45492601e+00, 2.11680969e+00, 3.07980146e+00],\n",
       "       [1.00000000e+00, 1.07378256e+00, 1.15300898e+00, 1.23808093e+00],\n",
       "       [1.00000000e+00, 7.55356933e-01, 5.70564097e-01, 4.30979546e-01],\n",
       "       [1.00000000e+00, 1.55903574e+00, 2.43059245e+00, 3.78938051e+00],\n",
       "       [1.00000000e+00, 1.73032970e+00, 2.99404086e+00, 5.18067782e+00],\n",
       "       [1.00000000e+00, 9.38953920e-01, 8.81634465e-01, 8.27814137e-01]])"
      ]
     },
     "execution_count": 13,
     "metadata": {},
     "output_type": "execute_result"
    }
   ],
   "source": [
    "X_new = np.c_[np.ones((len(X_train), 1)), X_train, X_train**2, X_train**3]\n",
    "X_new"
   ]
  },
  {
   "cell_type": "code",
   "execution_count": 14,
   "id": "ebd5ecae",
   "metadata": {
    "scrolled": true
   },
   "outputs": [
    {
     "data": {
      "text/plain": [
       "array([[ 1.3614893 ],\n",
       "       [ 2.43531625],\n",
       "       [-2.52188149],\n",
       "       [ 8.71755276]])"
      ]
     },
     "execution_count": 14,
     "metadata": {},
     "output_type": "execute_result"
    }
   ],
   "source": [
    "theta = np.linalg.inv(X_new.T @ X_new) @ (X_new.T @ y_train)\n",
    "theta"
   ]
  },
  {
   "cell_type": "code",
   "execution_count": 15,
   "id": "dd030329",
   "metadata": {},
   "outputs": [],
   "source": [
    "poly_function = theta[0] + theta[1]*X_test + theta[2]*X_test**2 + theta[3]*X_test**3"
   ]
  },
  {
   "cell_type": "code",
   "execution_count": 16,
   "id": "40458d9f",
   "metadata": {},
   "outputs": [
    {
     "data": {
      "image/png": "[encoded data removed]",
      "text/plain": [
       "<Figure size 432x288 with 1 Axes>"
      ]
     },
     "metadata": {
      "needs_background": "light"
     },
     "output_type": "display_data"
    }
   ],
   "source": [
    "plt.plot(X, y, 'go', label = 'Función original', linewidth = 4)\n",
    "plt.plot(X_test, poly_function, 'bo', label = 'Aproximación', linewidth = 2)\n",
    "plt.xlabel('X test', fontsize = 14)\n",
    "plt.ylabel('y predicted', fontsize = 14)\n",
    "plt.title('Gráfica aproximada con grado 3')\n",
    "plt.legend(loc = 'upper left')\n",
    "plt.show()"
   ]
  },
  {
   "cell_type": "markdown",
   "id": "576f60de",
   "metadata": {},
   "source": [
    "### Verificación por medio de R2 Sklearn"
   ]
  },
  {
   "cell_type": "code",
   "execution_count": 17,
   "id": "dc44072a",
   "metadata": {},
   "outputs": [
    {
     "data": {
      "text/plain": [
       "0.995269982807832"
      ]
     },
     "execution_count": 17,
     "metadata": {},
     "output_type": "execute_result"
    }
   ],
   "source": [
    "r2 = r2_score(y_test,poly_function)\n",
    "r2"
   ]
  }
 ],
 "metadata": {
  "kernelspec": {
   "display_name": "Python 3 (ipykernel)",
   "language": "python",
   "name": "python3"
  },
  "language_info": {
   "codemirror_mode": {
    "name": "ipython",
    "version": 3
   },
   "file_extension": ".py",
   "mimetype": "text/x-python",
   "name": "python",
   "nbconvert_exporter": "python",
   "pygments_lexer": "ipython3",
   "version": "3.9.7"
  }
 },
 "nbformat": 4,
 "nbformat_minor": 5
}
